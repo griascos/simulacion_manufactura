{
  "nbformat": 4,
  "nbformat_minor": 0,
  "metadata": {
    "colab": {
      "name": "Pruebas de bondad.ipynb",
      "provenance": [],
      "authorship_tag": "ABX9TyP4kOCJmHl0K5/TNsxPlm5G",
      "include_colab_link": true
    },
    "kernelspec": {
      "name": "python3",
      "display_name": "Python 3"
    },
    "language_info": {
      "name": "python"
    }
  },
  "cells": [
    {
      "cell_type": "markdown",
      "metadata": {
        "id": "view-in-github",
        "colab_type": "text"
      },
      "source": [
        "<a href=\"https://colab.research.google.com/github/griascos/simulacion_manufactura/blob/main/Pruebas_de_bondad.ipynb\" target=\"_parent\"><img src=\"https://colab.research.google.com/assets/colab-badge.svg\" alt=\"Open In Colab\"/></a>"
      ]
    },
    {
      "cell_type": "code",
      "source": [
        "import math;\n",
        "import numpy as np; \n",
        "import random as rd;\n",
        "import pandas as pd;\n",
        "import scipy.stats as st;\n",
        "import matplotlib as plt; "
      ],
      "metadata": {
        "id": "OVPaeZzN7cX1"
      },
      "execution_count": 2,
      "outputs": []
    },
    {
      "cell_type": "markdown",
      "source": [
        "# **Prueba Ji-Cuadrado**"
      ],
      "metadata": {
        "id": "FU5S93a-Pnxm"
      }
    },
    {
      "cell_type": "markdown",
      "source": [
        "Definición de parámetros"
      ],
      "metadata": {
        "id": "snadkFuy7tMD"
      }
    },
    {
      "cell_type": "code",
      "execution_count": null,
      "metadata": {
        "id": "N_PWemzc63db"
      },
      "outputs": [],
      "source": [
        "n = 1024;\n",
        "m = math.sqrt(n);\n",
        "long_int = 1/m;\n",
        "datos = np.zeros(n);"
      ]
    },
    {
      "cell_type": "code",
      "source": [
        "for i in range(n):\n",
        "  datos[i] = rd.random();"
      ],
      "metadata": {
        "id": "Mum0syaw7r22"
      },
      "execution_count": null,
      "outputs": []
    },
    {
      "cell_type": "markdown",
      "source": [
        "Determinación de intervalos"
      ],
      "metadata": {
        "id": "WN_Mu5X19exR"
      }
    },
    {
      "cell_type": "code",
      "source": [
        "j = 0; \n",
        "intervalos = np.zeros(int(m+1));\n",
        "for i in range(int(m+1)):\n",
        "  if i < 1:\n",
        "    intervalos[i] = 0;\n",
        "  else:\n",
        "    intervalos[i] = j + long_int;\n",
        "    j = j + long_int;"
      ],
      "metadata": {
        "id": "voY7GjSk8uCG"
      },
      "execution_count": null,
      "outputs": []
    },
    {
      "cell_type": "code",
      "source": [
        "agrupacion = pd.cut(datos, bins = intervalos);\n",
        "freq_o = agrupacion.value_counts();\n",
        "estadistico = sum(pow(agrupacion.value_counts()-m,2)/m);\n",
        "\n"
      ],
      "metadata": {
        "id": "f3bSBvKE-dLr"
      },
      "execution_count": null,
      "outputs": []
    },
    {
      "cell_type": "markdown",
      "source": [
        "Prueba Chi Cuadrado"
      ],
      "metadata": {
        "id": "OaQplZHYLDTu"
      }
    },
    {
      "cell_type": "code",
      "source": [
        "valorp_chi2 = 1-st.chi2.cdf(estadistico,m-1);\n",
        "valorp_chi2"
      ],
      "metadata": {
        "colab": {
          "base_uri": "https://localhost:8080/"
        },
        "id": "2i3ujjtl_zoH",
        "outputId": "bcdb6b1e-a3b5-489f-de79-e70bd9571053"
      },
      "execution_count": null,
      "outputs": [
        {
          "output_type": "execute_result",
          "data": {
            "text/plain": [
              "0.4852182714892398"
            ]
          },
          "metadata": {},
          "execution_count": 152
        }
      ]
    },
    {
      "cell_type": "markdown",
      "source": [
        "# **Prueba Kolmogorov**"
      ],
      "metadata": {
        "id": "waw_hdij4k_H"
      }
    },
    {
      "cell_type": "code",
      "source": [
        "nk = 1000;\n",
        "datosk = np.zeros(nk);"
      ],
      "metadata": {
        "id": "hRN3ttEO4pHG"
      },
      "execution_count": null,
      "outputs": []
    },
    {
      "cell_type": "markdown",
      "source": [
        "Generación números aleatorios"
      ],
      "metadata": {
        "id": "I3wyP8R77UQT"
      }
    },
    {
      "cell_type": "code",
      "source": [
        "for i in range(nk):\n",
        "  datosk[i] = rd.random();"
      ],
      "metadata": {
        "id": "RaC0Bz5S5JTk"
      },
      "execution_count": null,
      "outputs": []
    },
    {
      "cell_type": "code",
      "source": [
        "datos_ordenados = np.sort(datosk);\n",
        "i_vector = np.zeros(nk);\n",
        "for i in range(nk):\n",
        "  i_vector[i] = i + 1;"
      ],
      "metadata": {
        "id": "bFyt_QLE5dUU"
      },
      "execution_count": null,
      "outputs": []
    },
    {
      "cell_type": "markdown",
      "source": [
        "Cálculo de:\n",
        "\n",
        "$$ \\frac{i}{n} ~~;~~\\frac{i}{n}-F(x_{i})~~;~~F(x_{i})-\\frac{i-1}{n}$$ \n",
        "\n"
      ],
      "metadata": {
        "id": "aG4YFAq_7Z50"
      }
    },
    {
      "cell_type": "code",
      "source": [
        "in_vector = i_vector/nk;\n",
        "a_vector = in_vector-datos_ordenados;\n",
        "b_vector = datos_ordenados - (i_vector-1)/nk;"
      ],
      "metadata": {
        "id": "dccRW8IU6Pyd"
      },
      "execution_count": null,
      "outputs": []
    },
    {
      "cell_type": "code",
      "source": [
        "x = np.mean(datos_ordenados);\n",
        "s = np.std(datos_ordenados);\n",
        "print(\"Media: \",x,\"    Desv. Est: \", s);"
      ],
      "metadata": {
        "colab": {
          "base_uri": "https://localhost:8080/"
        },
        "id": "RjeLbFYu7PpU",
        "outputId": "4f0d6029-40b5-42f1-dcbb-6fd1367db8e2"
      },
      "execution_count": null,
      "outputs": [
        {
          "output_type": "stream",
          "name": "stdout",
          "text": [
            "Media:  0.49381659854283305     Desv. Est:  0.2913937318512876\n"
          ]
        }
      ]
    },
    {
      "cell_type": "markdown",
      "source": [
        "Hallar máximos y mínimos para parámetros: $$D^{+}~~y~~D^{-} $$"
      ],
      "metadata": {
        "id": "gZuxy26i9AGN"
      }
    },
    {
      "cell_type": "code",
      "source": [
        "dplus = np.max(a_vector);\n",
        "dminus = np.abs(np.min(b_vector));"
      ],
      "metadata": {
        "colab": {
          "base_uri": "https://localhost:8080/"
        },
        "id": "UuMihJ-L9UW5",
        "outputId": "3cf9900f-d916-41c1-8426-696e82dcfc56"
      },
      "execution_count": null,
      "outputs": [
        {
          "output_type": "stream",
          "name": "stdout",
          "text": [
            "0.023169955608120685 0.022169955608120684\n"
          ]
        }
      ]
    },
    {
      "cell_type": "code",
      "source": [
        "d_n = max(dplus,dminus);\n",
        "d_n"
      ],
      "metadata": {
        "colab": {
          "base_uri": "https://localhost:8080/"
        },
        "id": "Esl555bg9d15",
        "outputId": "59181137-4c30-45b8-c141-184dc4d82ecf"
      },
      "execution_count": null,
      "outputs": [
        {
          "output_type": "execute_result",
          "data": {
            "text/plain": [
              "0.023169955608120685"
            ]
          },
          "metadata": {},
          "execution_count": 23
        }
      ]
    },
    {
      "cell_type": "markdown",
      "source": [
        "Contraste de hipótesis"
      ],
      "metadata": {
        "id": "pxw0O2F89-76"
      }
    },
    {
      "cell_type": "code",
      "source": [
        "alpha = 0.05;\n",
        "calpha = 1.36/math.sqrt(nk);"
      ],
      "metadata": {
        "id": "2u5eHWqM90gp"
      },
      "execution_count": null,
      "outputs": []
    },
    {
      "cell_type": "code",
      "source": [
        "if calpha < d_n: \n",
        "  print(\"Se rechaza la hipótesis nula y por ende se concluye que\",\n",
        "        \"los números no siguen una dist. uniforme\");\n",
        "else:\n",
        "  print(\"No se rechaza la hipótesis nula y se comprueba que efectivamente\",\n",
        "        \"los números siguen la dist. uniforme\");"
      ],
      "metadata": {
        "colab": {
          "base_uri": "https://localhost:8080/"
        },
        "id": "q6lxpPmh-JOB",
        "outputId": "badbff77-caa0-40b8-c5a3-49b95b0e9adc"
      },
      "execution_count": null,
      "outputs": [
        {
          "output_type": "stream",
          "name": "stdout",
          "text": [
            "No se rechaza la hipótesis nula y se comprueba que efectivamente los números siguen la dist. uniforme\n"
          ]
        }
      ]
    },
    {
      "cell_type": "markdown",
      "source": [
        "# **Gráficas**"
      ],
      "metadata": {
        "id": "bNbd1Gu-nQi4"
      }
    },
    {
      "cell_type": "markdown",
      "source": [
        "Prueba de póker"
      ],
      "metadata": {
        "id": "OhhEmGinpL3b"
      }
    },
    {
      "cell_type": "code",
      "source": [
        "df = 6 # parametro de forma.\n",
        "chi2 = st.chi2(df)\n",
        "x = np.linspace(chi2.ppf(0),\n",
        "                chi2.ppf(0.99), 100)\n",
        "x1 = np.linspace(chi2.ppf(0),\n",
        "                chi2.ppf(0.95), 100)\n",
        "fp = chi2.pdf(x) # Función de Probabilidad\n",
        "fp1 = chi2.pdf(x1)\n",
        "plt.pyplot.plot(x, fp)\n",
        "plt.pyplot.axvline(12.59, c = \"black\")\n",
        "plt.pyplot.fill_between(x1, 0, fp1)\n",
        "plt.pyplot.title('Prueba de Póker')\n",
        "plt.pyplot.ylabel('Probabilidad')\n",
        "plt.pyplot.xlabel('x')\n",
        "plt.pyplot.show()"
      ],
      "metadata": {
        "colab": {
          "base_uri": "https://localhost:8080/",
          "height": 295
        },
        "id": "zVV-Nx17nUAP",
        "outputId": "31f353a1-9638-4ad7-c246-fd53cad00aa4"
      },
      "execution_count": 56,
      "outputs": [
        {
          "output_type": "display_data",
          "data": {
            "text/plain": [
              "<Figure size 432x288 with 1 Axes>"
            ],
            "image/png": "[encoded data removed]"
          },
          "metadata": {
            "needs_background": "light"
          }
        }
      ]
    },
    {
      "cell_type": "markdown",
      "source": [
        "Prueba Ji-Cuadrado"
      ],
      "metadata": {
        "id": "C505pPKawIT5"
      }
    },
    {
      "cell_type": "code",
      "source": [
        "df = 32 # parametro de forma.\n",
        "chi2 = st.chi2(df)\n",
        "x = np.linspace(chi2.ppf(0),\n",
        "                chi2.ppf(0.99), 100)\n",
        "x1 = np.linspace(chi2.ppf(0),\n",
        "                chi2.ppf(0.95), 100)\n",
        "fp = chi2.pdf(x) # Función de Probabilidad\n",
        "fp1 = chi2.pdf(x1)\n",
        "plt.pyplot.plot(x, fp)\n",
        "plt.pyplot.axvline(46, c = \"black\")\n",
        "plt.pyplot.axvline(32.19, c = \"red\")\n",
        "plt.pyplot.fill_between(x1, 0, fp1)\n",
        "plt.pyplot.title('Prueba Ji-Cuadrado')\n",
        "plt.pyplot.ylabel('Probabilidad')\n",
        "plt.pyplot.xlabel('x')\n",
        "plt.pyplot.show()"
      ],
      "metadata": {
        "colab": {
          "base_uri": "https://localhost:8080/",
          "height": 295
        },
        "id": "oqarj-qgoEpV",
        "outputId": "6f2c2ebc-867c-4450-aac9-0604489ec48c"
      },
      "execution_count": 63,
      "outputs": [
        {
          "output_type": "display_data",
          "data": {
            "text/plain": [
              "<Figure size 432x288 with 1 Axes>"
            ],
            "image/png": "[encoded data removed]"
          },
          "metadata": {
            "needs_background": "light"
          }
        }
      ]
    },
    {
      "cell_type": "markdown",
      "source": [
        "Pruebas por encima y debajo de la mieda"
      ],
      "metadata": {
        "id": "P_cjYNJKxb1r"
      }
    },
    {
      "cell_type": "code",
      "source": [
        "# Graficando Normal\n",
        "mu, sigma = 0, 1 # media y desvio estandar\n",
        "normal = st.norm(mu, sigma)\n",
        "x = np.linspace(normal.ppf(0.01),\n",
        "                normal.ppf(0.99), 100)\n",
        "x1 = np.linspace(normal.ppf(0.01),\n",
        "                normal.ppf(0.975), 100)\n",
        "fp = normal.pdf(x) # Función de Probabilidad\n",
        "fp1 = normal.pdf(x1)\n",
        "plt.pyplot.plot(x, fp)\n",
        "plt.pyplot.axvline(1.96, c = \"black\")\n",
        "plt.pyplot.axvline(0.74, c = \"red\")\n",
        "plt.pyplot.fill_between(x1, 0, fp1)\n",
        "plt.pyplot.title('Corrida por encima o debajo de la media')\n",
        "plt.pyplot.ylabel('Probabilidad')\n",
        "plt.pyplot.xlabel('x')\n",
        "plt.pyplot.show()"
      ],
      "metadata": {
        "colab": {
          "base_uri": "https://localhost:8080/",
          "height": 295
        },
        "id": "UhHPaicnw7uP",
        "outputId": "8f48b835-1172-4acd-a598-8bf66706caad"
      },
      "execution_count": 78,
      "outputs": [
        {
          "output_type": "display_data",
          "data": {
            "text/plain": [
              "<Figure size 432x288 with 1 Axes>"
            ],
            "image/png": "[encoded data removed]"
          },
          "metadata": {
            "needs_background": "light"
          }
        }
      ]
    },
    {
      "cell_type": "markdown",
      "source": [
        "Pruebas por corridas ascendentes y descendentes"
      ],
      "metadata": {
        "id": "JvjtInyIzRwC"
      }
    },
    {
      "cell_type": "code",
      "source": [
        "# Graficando Normal\n",
        "mu, sigma = 0, 1 # media y desvio estandar\n",
        "normal = st.norm(mu, sigma)\n",
        "x = np.linspace(normal.ppf(0.01),\n",
        "                normal.ppf(0.99), 100)\n",
        "x1 = np.linspace(normal.ppf(0.01),\n",
        "                normal.ppf(0.975), 100)\n",
        "fp = normal.pdf(x) # Función de Probabilidad\n",
        "fp1 = normal.pdf(x1)\n",
        "plt.pyplot.plot(x, fp)\n",
        "plt.pyplot.axvline(1.96, c = \"black\")\n",
        "plt.pyplot.axvline(1.64, c = \"red\")\n",
        "plt.pyplot.fill_between(x1, 0, fp1)\n",
        "plt.pyplot.title('Corridas ascendentes y descendentes')\n",
        "plt.pyplot.ylabel('Probabilidad')\n",
        "plt.pyplot.xlabel('x')\n",
        "plt.pyplot.show()"
      ],
      "metadata": {
        "colab": {
          "base_uri": "https://localhost:8080/",
          "height": 295
        },
        "id": "qmMjbzz8zVH7",
        "outputId": "090ffe36-4aff-493b-97d5-d872d54dad25"
      },
      "execution_count": 79,
      "outputs": [
        {
          "output_type": "display_data",
          "data": {
            "text/plain": [
              "<Figure size 432x288 with 1 Axes>"
            ],
            "image/png": "[encoded data removed]"
          },
          "metadata": {
            "needs_background": "light"
          }
        }
      ]
    },
    {
      "cell_type": "code",
      "source": [
        ""
      ],
      "metadata": {
        "id": "31v2LjJ1zqyy"
      },
      "execution_count": null,
      "outputs": []
    }
  ]
}